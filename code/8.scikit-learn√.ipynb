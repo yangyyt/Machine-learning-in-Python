{
 "cells": [
  {
   "cell_type": "markdown",
   "metadata": {},
   "source": [
    "![sklearn](sklearn.png)"
   ]
  },
  {
   "cell_type": "markdown",
   "metadata": {},
   "source": [
    "### 1. sklearn简介"
   ]
  },
  {
   "cell_type": "markdown",
   "metadata": {
    "collapsed": true
   },
   "source": [
    "Scikit-learn(sklearn)是机器学习中常用的第三方模块，对常用的机器学习方法进行了封装，包括回归（Regression）、降维（Dimensionality Reduction）、分类（Classfication）、聚类（Clustering）方法。  \n",
    ">常用的回归：线性、决策树、SVM、KNN ；集成回归：随机森林、Adaboost、GradientBoosting、Bagging、ExtraTrees  \n",
    "常用的分类：线性、决策树、SVM、KNN，朴素贝叶斯；集成分类：随机森林、Adaboost、GradientBoosting、Bagging、ExtraTrees  \n",
    "常用聚类：k均值（K-means）、层次聚类（Hierarchical clustering）、DBSCAN   \n",
    "常用降维：LinearDiscriminantAnalysis、PCA  \n"
   ]
  },
  {
   "cell_type": "markdown",
   "metadata": {},
   "source": [
    "简单高效的数据挖掘和数据分析工具；     \n",
    "让每个人能够在复杂环境中重复使用；   \n",
    "建立Numpy、Scipy、Matplotlib之上；    \n",
    " "
   ]
  },
  {
   "cell_type": "markdown",
   "metadata": {},
   "source": [
    "### 2. sklearn安装"
   ]
  },
  {
   "cell_type": "markdown",
   "metadata": {
    "collapsed": true
   },
   "source": [
    "安装scikit-learn可以使用pip install scikit-learn .  \n",
    "同时你还需要安装Numpy,Pandas（同样的安装方法）。\n"
   ]
  },
  {
   "cell_type": "markdown",
   "metadata": {},
   "source": [
    "### 3. 常规使用模式"
   ]
  },
  {
   "cell_type": "markdown",
   "metadata": {
    "collapsed": true
   },
   "source": [
    "Sklearn是已经把算法都写好了，我们只需学会使用这些模块，当然，你在实际的学习中是需要搞清楚算法的原理，今天我们只讲如何使用sklearn。sklearn包含众多机器学习算法，这些算法模型的通用模式是怎么样的呢，下边我们就进行学习。"
   ]
  },
  {
   "cell_type": "code",
   "execution_count": 2,
   "metadata": {
    "collapsed": true
   },
   "outputs": [],
   "source": [
    "#sklearn自带数据集，我们通过对自带数据集选择相应的机器学习算法进行训练。\n",
    "from sklearn import datasets  #导入数据集\n",
    "from sklearn.model_selection import train_test_split #将数据分为测试集和训练集\n",
    "from sklearn.neighbors import KNeighborsClassifier  #利用近邻点方式训练数据\n",
    "\n",
    "iris=datasets.load_iris() #加载鸢尾花数据\n",
    "iris_X=iris.data  #特征\n",
    "iris_y=iris.target #目标变量\n",
    "\n",
    "#将数据集分成训练集和测试集两部分，测试集占比30%\n",
    "X_train,X_test,y_train,y_test=train_test_split(iris_X,iris_y,test_size=0.3)\n"
   ]
  },
  {
   "cell_type": "code",
   "execution_count": 4,
   "metadata": {},
   "outputs": [
    {
     "name": "stdout",
     "output_type": "stream",
     "text": [
      "[2 0 2 1 0 2 1 2 1 0 1 0 1 2 2 2 0 1 2 1 1 1 0 1 2 1 0 0 0 0 0 1 0 1 1 2 2\n",
      " 1 2 2 1 0 2 1 0 1 0 0 2 2 2 1 2 2 0 0 0 2 0 0 0 2 2 2 0 0 2 1 0 2 1 2 1 1\n",
      " 2 2 2 0 2 1 0 0 1 2 2 0 1 0 1 1 0 2 0 1 1 2 0 1 0 1 2 1 2 0 1]\n"
     ]
    }
   ],
   "source": [
    "print(y_train)  #看看y_train都有啥"
   ]
  },
  {
   "cell_type": "code",
   "execution_count": 5,
   "metadata": {},
   "outputs": [
    {
     "data": {
      "text/plain": [
       "KNeighborsClassifier(algorithm='auto', leaf_size=30, metric='minkowski',\n",
       "           metric_params=None, n_jobs=1, n_neighbors=5, p=2,\n",
       "           weights='uniform')"
      ]
     },
     "execution_count": 5,
     "metadata": {},
     "output_type": "execute_result"
    }
   ],
   "source": [
    "#训练数据\n",
    "knn=KNeighborsClassifier() #引入训练方法\n",
    "knn.fit(X_train,y_train)  #队训练数据进行拟合"
   ]
  },
  {
   "cell_type": "code",
   "execution_count": 10,
   "metadata": {
    "collapsed": true
   },
   "outputs": [],
   "source": [
    "#测试数据\n",
    "y_pred=knn.predict(X_test)  \n",
    "# y_predprob=knn.predict_proba(X_test)[:,1]"
   ]
  },
  {
   "cell_type": "code",
   "execution_count": 12,
   "metadata": {},
   "outputs": [
    {
     "name": "stdout",
     "output_type": "stream",
     "text": [
      "[1 1 1 1 1 0 0 0 0 0 1 2 0 1 2 2 1 0 0 0 2 1 2 2 2 0 2 0 0 2 1 2 2 0 1 2 0\n",
      " 2 1 2 1 1 1 2 0]\n"
     ]
    }
   ],
   "source": [
    "print(y_pred)  #查看一下测试数据的预测类别"
   ]
  },
  {
   "cell_type": "markdown",
   "metadata": {},
   "source": [
    "一般，我们参加比赛会把最后的模型结果写入.csv文件，提交。"
   ]
  },
  {
   "cell_type": "code",
   "execution_count": 36,
   "metadata": {
    "collapsed": true
   },
   "outputs": [],
   "source": [
    "# print(type(y_pred))\n",
    "# print(y_pred.size)\n",
    "#生成一个样本对应ID,假设是1-45的序号\n",
    "ind=[]\n",
    "for i in range(45):\n",
    "    ind.append(i+1)"
   ]
  },
  {
   "cell_type": "code",
   "execution_count": 37,
   "metadata": {},
   "outputs": [
    {
     "data": {
      "text/html": [
       "<div>\n",
       "<style scoped>\n",
       "    .dataframe tbody tr th:only-of-type {\n",
       "        vertical-align: middle;\n",
       "    }\n",
       "\n",
       "    .dataframe tbody tr th {\n",
       "        vertical-align: top;\n",
       "    }\n",
       "\n",
       "    .dataframe thead th {\n",
       "        text-align: right;\n",
       "    }\n",
       "</style>\n",
       "<table border=\"1\" class=\"dataframe\">\n",
       "  <thead>\n",
       "    <tr style=\"text-align: right;\">\n",
       "      <th></th>\n",
       "      <th>id</th>\n",
       "      <th>pred</th>\n",
       "    </tr>\n",
       "  </thead>\n",
       "  <tbody>\n",
       "    <tr>\n",
       "      <th>0</th>\n",
       "      <td>1</td>\n",
       "      <td>1</td>\n",
       "    </tr>\n",
       "    <tr>\n",
       "      <th>1</th>\n",
       "      <td>2</td>\n",
       "      <td>1</td>\n",
       "    </tr>\n",
       "    <tr>\n",
       "      <th>2</th>\n",
       "      <td>3</td>\n",
       "      <td>1</td>\n",
       "    </tr>\n",
       "    <tr>\n",
       "      <th>3</th>\n",
       "      <td>4</td>\n",
       "      <td>1</td>\n",
       "    </tr>\n",
       "    <tr>\n",
       "      <th>4</th>\n",
       "      <td>5</td>\n",
       "      <td>1</td>\n",
       "    </tr>\n",
       "  </tbody>\n",
       "</table>\n",
       "</div>"
      ],
      "text/plain": [
       "   id  pred\n",
       "0   1     1\n",
       "1   2     1\n",
       "2   3     1\n",
       "3   4     1\n",
       "4   5     1"
      ]
     },
     "execution_count": 37,
     "metadata": {},
     "output_type": "execute_result"
    }
   ],
   "source": [
    "#回顾Pandas中的数据框\n",
    "import pandas as pd\n",
    "dic={'id':ind,'pred':y_pred}\n",
    "test_pred=pd.DataFrame(dic)\n",
    "test_pred.head()"
   ]
  },
  {
   "cell_type": "code",
   "execution_count": 38,
   "metadata": {
    "collapsed": true
   },
   "outputs": [],
   "source": [
    "#将数据框写入.csv文件中\n",
    "test_pred.to_csv('knn_iris.csv',index=False)"
   ]
  },
  {
   "cell_type": "markdown",
   "metadata": {},
   "source": [
    "其他的不同的数据集：  \n",
    "load_boston()  \n",
    "load_iris()  \n",
    "load_diabetes()  \n",
    "load_digits()  \n",
    "load_linnerud()  \n",
    "load_wine()  \n",
    "load_breast_cancer()  \n",
    "load_sample_images()"
   ]
  },
  {
   "cell_type": "markdown",
   "metadata": {},
   "source": [
    "### 4. sklearn中的数据展示"
   ]
  },
  {
   "cell_type": "code",
   "execution_count": 3,
   "metadata": {},
   "outputs": [
    {
     "data": {
      "image/png": "[encoded data removed]",
      "text/plain": [
       "<Figure size 432x288 with 1 Axes>"
      ]
     },
     "metadata": {},
     "output_type": "display_data"
    }
   ],
   "source": [
    "from sklearn import datasets \n",
    "X,y=datasets.make_regression(n_samples=100,n_features=1,n_targets=1,noise=1) #生成本地数据集\n",
    "#n_samples:样本数 n_features：特征数，n_targets:输出y的维度\n",
    "\n",
    "#对构造数据绘图\n",
    "import matplotlib.pyplot as plt\n",
    "plt.figure()\n",
    "plt.scatter(X,y)\n",
    "plt.show()"
   ]
  },
  {
   "cell_type": "markdown",
   "metadata": {
    "collapsed": true
   },
   "source": [
    "[datasets.make_regression文档说明](https://scikit-learn.org/stable/modules/generated/sklearn.datasets.make_regression.html)"
   ]
  },
  {
   "cell_type": "markdown",
   "metadata": {},
   "source": [
    "### 5. sklearn Model中常用属性与功能"
   ]
  },
  {
   "cell_type": "markdown",
   "metadata": {
    "collapsed": true
   },
   "source": [
    "数据训练之后的模型会相应的包含不同的属性和功能，接下我们来看一下都有什么属性跟功能呢？"
   ]
  },
  {
   "cell_type": "code",
   "execution_count": 5,
   "metadata": {},
   "outputs": [
    {
     "name": "stdout",
     "output_type": "stream",
     "text": [
      "(506, 13)\n",
      "[-1.07170557e-01  4.63952195e-02  2.08602395e-02  2.68856140e+00\n",
      " -1.77957587e+01  3.80475246e+00  7.51061703e-04 -1.47575880e+00\n",
      "  3.05655038e-01 -1.23293463e-02 -9.53463555e-01  9.39251272e-03\n",
      " -5.25466633e-01]\n",
      "36.49110328036181\n",
      "{'copy_X': True, 'fit_intercept': True, 'n_jobs': 1, 'normalize': False}\n"
     ]
    }
   ],
   "source": [
    "#对于线性回归模型，最后训练的模型，可以输出拟合直线的系数和截距，\n",
    "#同时可以获得训练模型所使用的参数，以及对训练模型进行打分\n",
    "from sklearn import datasets\n",
    "from sklearn.linear_model import LinearRegression  #导入线性回归模型\n",
    "\n",
    "#加载数据\n",
    "load_data=datasets.load_boston()\n",
    "data_X=load_data.data\n",
    "data_y=load_data.target\n",
    "print(data_X.shape) #样本个数和样本特征数\n",
    "\n",
    "#训练数据\n",
    "model=LinearRegression()\n",
    "model.fit(data_X,data_y)\n",
    "model.predict(data_X[:4,:])  #预测前四个数据\n",
    "\n",
    "#查看模型的一些属性和功能\n",
    "w=model.coef_  #拟合直线的系数\n",
    "b=model.intercept_  #拟合直线的截距\n",
    "param=model.get_params() #模型训练参数\n",
    "\n",
    "print(w)\n",
    "print(b)\n",
    "print(param)"
   ]
  },
  {
   "cell_type": "markdown",
   "metadata": {},
   "source": [
    "对于线性回归如此，对与其他的模型同样如此，根据官方文档查看模型的属性跟方法，使用起来非常方便。"
   ]
  },
  {
   "cell_type": "markdown",
   "metadata": {},
   "source": [
    "### 6. 数据标准化"
   ]
  },
  {
   "cell_type": "markdown",
   "metadata": {
    "collapsed": true
   },
   "source": [
    "许多学习算法中目标函数的基础都是假设所有的特征都是零均值并且具有同一阶数上的方差（比如径向基函数，支持向量机以及L1L2正则化项等）。如果某个特征的方差比其他特征大几个数量级，那么他就会在学习算法中占据主导位置，导致学习器对其他特征有所忽略。  \n",
    "标准化先对数据进行中心化，再除以特征的标准差进行缩放。  \n",
    "在sklearn中，我们可以通过Scale将数据缩放，达到标准化的目的。"
   ]
  },
  {
   "cell_type": "code",
   "execution_count": 6,
   "metadata": {},
   "outputs": [
    {
     "name": "stdout",
     "output_type": "stream",
     "text": [
      "标准化前的数据： [[  10.     2.7    3.6]\n",
      " [-100.     5.    -2. ]\n",
      " [ 120.    20.    40. ]]\n",
      "标准化后的数据： [[ 0.         -0.85170713 -0.55138018]\n",
      " [-1.22474487 -0.55187146 -0.852133  ]\n",
      " [ 1.22474487  1.40357859  1.40351318]]\n"
     ]
    }
   ],
   "source": [
    "from sklearn import preprocessing\n",
    "import numpy as np\n",
    "a=np.array([[10,2.7,3.6],\n",
    "           [-100,5,-2],\n",
    "            [120,20,40]],dtype=np.float64)\n",
    "print(\"标准化前的数据：\",a)\n",
    "print(\"标准化后的数据：\",preprocessing.scale(a))"
   ]
  },
  {
   "cell_type": "markdown",
   "metadata": {},
   "source": [
    "下边我们就来看一下数据不做标准化处理跟做了标准化处理有什么区别\n"
   ]
  },
  {
   "cell_type": "code",
   "execution_count": 7,
   "metadata": {},
   "outputs": [
    {
     "data": {
      "image/png": "[encoded data removed]",
      "text/plain": [
       "<Figure size 432x288 with 1 Axes>"
      ]
     },
     "metadata": {},
     "output_type": "display_data"
    }
   ],
   "source": [
    "from sklearn.model_selection import train_test_split\n",
    "from sklearn.datasets.samples_generator import make_classification\n",
    "from sklearn.svm import SVC\n",
    "import matplotlib.pyplot as plt\n",
    "\n",
    "#生成数据可视化如下\n",
    "plt.figure()\n",
    "X,y=make_classification(n_samples=300,n_features=2,n_redundant=0,n_informative=2,\n",
    "                       random_state=22,n_clusters_per_class=1,scale=100)\n",
    "plt.scatter(X[:,0],X[:,1],c=y)\n",
    "plt.show()"
   ]
  },
  {
   "cell_type": "code",
   "execution_count": 9,
   "metadata": {},
   "outputs": [
    {
     "name": "stdout",
     "output_type": "stream",
     "text": [
      "0.5222222222222223\n"
     ]
    }
   ],
   "source": [
    "X_pre=X\n",
    "y_pre=y\n",
    "X_train_pre,X_test_pre,y_train_pre,y_test_pre=train_test_split(X_pre,y_pre,test_size=0.3)\n",
    "clf=SVC()\n",
    "clf.fit(X_train_pre,y_train_pre)\n",
    "print(clf.score(X_test_pre,y_test_pre))"
   ]
  },
  {
   "cell_type": "code",
   "execution_count": 10,
   "metadata": {},
   "outputs": [
    {
     "name": "stdout",
     "output_type": "stream",
     "text": [
      "0.9111111111111111\n"
     ]
    }
   ],
   "source": [
    "#利用minmax方式对数据进行规范化\n",
    "X=preprocessing.minmax_scale(X) #feature_range=(-1,1)  #可设置重置范围\n",
    "X_train,X_test,y_train,y_test=train_test_split(X,y,test_size=0.3)\n",
    "clf=SVC()\n",
    "clf.fit(X_train,y_train)\n",
    "print(clf.score(X_test,y_test))\n"
   ]
  },
  {
   "cell_type": "markdown",
   "metadata": {},
   "source": [
    "可以看到数据规范化之前模型分数为0.52222，数据规范化之后模型分数为0.91111"
   ]
  },
  {
   "cell_type": "markdown",
   "metadata": {},
   "source": [
    "### 7. 检验神经网络"
   ]
  },
  {
   "cell_type": "markdown",
   "metadata": {},
   "source": [
    "那么交叉验证的方法包含哪些呢，一下我们简单的介绍四种方法。"
   ]
  },
  {
   "cell_type": "code",
   "execution_count": null,
   "metadata": {
    "collapsed": true
   },
   "outputs": [],
   "source": []
  },
  {
   "cell_type": "markdown",
   "metadata": {},
   "source": [
    "### 8. 交叉验证"
   ]
  },
  {
   "cell_type": "markdown",
   "metadata": {
    "collapsed": true
   },
   "source": [
    "交叉验证的思想就是重复的使用数据，把得到的样本数据进行切分，组合成为不同的训练集和验证集，用训练集来训练模型，用验证集评估模型预测的好坏。"
   ]
  },
  {
   "cell_type": "markdown",
   "metadata": {},
   "source": [
    "（1）简单的交叉验证：\n",
    ">随机的将样本数据分为两部分（如70%训练，30%测试），然后用训练集来训练模型，在验证集上验证模型及参数；接着再把样本打乱，重新选择训练集和验证集，重新训练验证，最后选择损失函数评估最优的模型和参数。\n",
    "\n",
    "（2）k折交叉验证：\n",
    ">随机将样本数均分为K份，每次随机选择其中的k-1份作为训练集，剩下的1份做验证集。当这一轮完成后，重新随机选择k-1份来训练数据，若干轮后选择损失函数评估最优的模型和参数。\n",
    "\n",
    "（3）留一交叉验证：\n",
    ">留一交叉验证是k折交叉验证的一种特例，此时k=n(样本的个数)，每次选择n-1个样本进行训练，留一个样本进行验证模型的好坏。  \n",
    "这种方法适合样本量非常少的情况。\n",
    "\n",
    "（4）Boostrapping自助采样法：\n",
    ">这种方法也是随机森林训练样本采用的方法。  \n",
    "在n个样本中随机有放回抽样m个样本作为一颗树的一个训练集，这种采用会大约有1/3的样本不被采到，这些不被采到的样本就会被作为这棵树的验证集。\n",
    "\n",
    "如果只是对数据做一个初步的模型建立，不需要做深入分析的话，简单的交叉验证就可以了，否则使用k折交叉验证，在样本量很小时，可以选择使用留一法。  \n",
    "总之，所有的东西不是一成不变的，大家在遇到具体问题的时候，可以所有方式都尝试一下，看看效果，根据具体问题选择合适的方法"
   ]
  },
  {
   "cell_type": "code",
   "execution_count": 1,
   "metadata": {},
   "outputs": [
    {
     "name": "stdout",
     "output_type": "stream",
     "text": [
      "[0.96666667 1.         0.93333333 0.96666667 1.        ]\n",
      "0.9733333333333334\n"
     ]
    }
   ],
   "source": [
    "from sklearn.datasets import load_iris\n",
    "from sklearn.model_selection import train_test_split\n",
    "from sklearn.neighbors import KNeighborsClassifier\n",
    "from sklearn.model_selection import cross_val_score  #导入交叉验证\n",
    "\n",
    "#加载数据\n",
    "iris=load_iris()\n",
    "X=iris.data\n",
    "y=iris.target\n",
    "\n",
    "#训练数据\n",
    "X_train,X_test,y_train,y_test=train_test_split(X,y,test_size=0.3)\n",
    "\n",
    "\n",
    "knn=KNeighborsClassifier(n_neighbors=5)#选择邻近的5个点\n",
    "scores=cross_val_score(knn,X,y,cv=5,scoring='accuracy')#5折交叉验证，评分方式为accuracy\n",
    "print(scores)#每组的评分结果\n",
    "\n",
    "print(scores.mean())#平均评分结果\n",
    "\n"
   ]
  },
  {
   "cell_type": "code",
   "execution_count": 3,
   "metadata": {},
   "outputs": [
    {
     "data": {
      "image/png": "[encoded data removed]",
      "text/plain": [
       "<Figure size 432x288 with 1 Axes>"
      ]
     },
     "metadata": {},
     "output_type": "display_data"
    }
   ],
   "source": [
    "#调整模型参数，采用k近邻方法中k=5\n",
    "from sklearn import datasets\n",
    "from sklearn.model_selection import train_test_split\n",
    "from sklearn.neighbors import KNeighborsClassifier\n",
    "from sklearn.model_selection import cross_val_score#引入交叉验证\n",
    "import  matplotlib.pyplot as plt\n",
    "#加载数据\n",
    "iris=datasets.load_iris()\n",
    "X=iris.data\n",
    "y=iris.target\n",
    "#设置n_neighbors的值为1到30,通过绘图来看训练分数\n",
    "k_range=range(1,31)\n",
    "k_score=[]\n",
    "for k in k_range:\n",
    "    knn=KNeighborsClassifier(n_neighbors=k)\n",
    "    scores=cross_val_score(knn,X,y,cv=10,scoring='accuracy')#10折交叉验证\n",
    "    k_score.append(scores.mean())\n",
    "plt.figure()\n",
    "plt.plot(k_range,k_score)\n",
    "plt.xlabel('Value of k for KNN')\n",
    "plt.ylabel('CrossValidation accuracy')\n",
    "plt.show()\n",
    "#K过大会带来过拟合问题,我们可以选择12-18之间的值\n"
   ]
  },
  {
   "cell_type": "markdown",
   "metadata": {
    "collapsed": true
   },
   "source": [
    "另外我们可以选择2-fold cross validation,leave-one-out cross validation等方法来分割数据，比较不同的方法和参数得到最优结果。"
   ]
  },
  {
   "cell_type": "code",
   "execution_count": 8,
   "metadata": {},
   "outputs": [
    {
     "name": "stdout",
     "output_type": "stream",
     "text": [
      "150\n"
     ]
    },
    {
     "data": {
      "image/png": "[encoded data removed]",
      "text/plain": [
       "<Figure size 432x288 with 1 Axes>"
      ]
     },
     "metadata": {},
     "output_type": "display_data"
    }
   ],
   "source": [
    "# 调整模型参数，采用k近邻方法中k=5\n",
    "from sklearn import datasets\n",
    "from sklearn.model_selection import train_test_split\n",
    "from sklearn.neighbors import KNeighborsClassifier\n",
    "from sklearn.model_selection import cross_val_score#引入交叉验证\n",
    "# from sklearn.model_selection import LeaveOneOut\n",
    "import  matplotlib.pyplot as plt\n",
    "#加载数据\n",
    "iris=datasets.load_iris()\n",
    "X=iris.data\n",
    "y=iris.target\n",
    "print(len(X))\n",
    "\n",
    "#设置n_neighbors的值为1到30,通过绘图来看训练分数\n",
    "k_range=range(1,31)\n",
    "k_score=[]\n",
    "for k in k_range:\n",
    "    knn=KNeighborsClassifier(n_neighbors=k)\n",
    "    scores=cross_val_score(knn,X,y,cv=10,scoring='accuracy')#10折交叉验证\n",
    "    k_score.append(scores.mean())\n",
    "plt.figure()\n",
    "plt.plot(k_range,k_score)\n",
    "plt.xlabel('Value of k for KNN')\n",
    "plt.ylabel('CrossValidation accuracy')\n",
    "plt.show()\n"
   ]
  },
  {
   "cell_type": "code",
   "execution_count": 10,
   "metadata": {},
   "outputs": [
    {
     "name": "stdout",
     "output_type": "stream",
     "text": [
      "150\n"
     ]
    },
    {
     "data": {
      "image/png": "[encoded data removed]",
      "text/plain": [
       "<Figure size 432x288 with 1 Axes>"
      ]
     },
     "metadata": {},
     "output_type": "display_data"
    }
   ],
   "source": [
    "#改变评分函数“neg_mean_squared_error”\n",
    "from sklearn import datasets\n",
    "from sklearn.model_selection import train_test_split\n",
    "from sklearn.neighbors import KNeighborsClassifier\n",
    "from sklearn.model_selection import cross_val_score#引入交叉验证\n",
    "# from sklearn.model_selection import LeaveOneOut\n",
    "import  matplotlib.pyplot as plt\n",
    "#加载数据\n",
    "iris=datasets.load_iris()\n",
    "X=iris.data\n",
    "y=iris.target\n",
    "print(len(X))\n",
    "\n",
    "#设置n_neighbors的值为1到30,通过绘图来看训练分数\n",
    "k_range=range(1,31)\n",
    "k_score=[]\n",
    "for k in k_range:\n",
    "    knn=KNeighborsClassifier(n_neighbors=k)\n",
    "    loss=-cross_val_score(knn,X,y,cv=10,scoring='neg_mean_squared_error')#10折交叉验证\n",
    "    k_score.append(loss.mean())\n",
    "plt.figure()\n",
    "plt.plot(k_range,k_score)\n",
    "plt.xlabel('Value of k for KNN')\n",
    "plt.ylabel('CrossValidation accuracy')\n",
    "plt.show()\n"
   ]
  },
  {
   "cell_type": "markdown",
   "metadata": {
    "collapsed": true
   },
   "source": [
    "### 8.过拟合问题"
   ]
  },
  {
   "cell_type": "markdown",
   "metadata": {},
   "source": [
    "过拟合的问题是因为模型过于复杂，对于训练数据能很好的拟合，却不能正确的处理测试数据，从一个角度说就是，学到了一些样本数据一些非通用信息。使得模型的泛化效果非常不好。"
   ]
  },
  {
   "cell_type": "markdown",
   "metadata": {},
   "source": [
    "#先距离如何辨别overfitting问题\n",
    "#Sklearn.learning_curve中的learning curve可以直观的看出模型学习的进度，对比发现有没有过拟合。"
   ]
  },
  {
   "cell_type": "code",
   "execution_count": 7,
   "metadata": {},
   "outputs": [
    {
     "data": {
      "image/png": "[encoded data removed]",
      "text/plain": [
       "<Figure size 432x288 with 1 Axes>"
      ]
     },
     "metadata": {},
     "output_type": "display_data"
    }
   ],
   "source": [
    "from sklearn.model_selection import learning_curve  # 学习曲线\n",
    "from sklearn.datasets import load_digits \n",
    "from sklearn.svm import SVC\n",
    "import matplotlib.pyplot as plt\n",
    "import numpy as np\n",
    "\n",
    "#加载数据\n",
    "digits=load_digits()\n",
    "X=digits.data\n",
    "y=digits.target\n",
    "\n",
    "#train_size表示记录学习过程中的某一步,比如在10%,25%...的过程中记录一下\n",
    "train_size,train_loss,test_loss=learning_curve(\n",
    "    SVC(gamma=0.1),X,y,cv=10,scoring='neg_mean_squared_error',\n",
    "    train_sizes=[0.1,0.25,0.5,0.75,1]\n",
    ")\n",
    "train_loss_mean=-np.mean(train_loss,axis=1)\n",
    "test_loss_mean=-np.mean(test_loss,axis=1)\n",
    "\n",
    "plt.figure()\n",
    "#将每一步进行打印出来\n",
    "plt.plot(train_size,train_loss_mean,'o-',color='r',label='Training')\n",
    "plt.plot(train_size,test_loss_mean,'o-',color='g',label='Cross-validation')\n",
    "plt.legend(loc='best')\n",
    "plt.show()\n",
    "# ，损失函数的值在10左右停留，便能直观得看出过拟合"
   ]
  },
  {
   "cell_type": "code",
   "execution_count": 8,
   "metadata": {},
   "outputs": [
    {
     "data": {
      "image/png": "[encoded data removed]",
      "text/plain": [
       "<Figure size 432x288 with 1 Axes>"
      ]
     },
     "metadata": {},
     "output_type": "display_data"
    }
   ],
   "source": [
    "#改变gamma的值0.01，会相应的改变loss函数\n",
    "from sklearn.model_selection import learning_curve  # 学习曲线\n",
    "from sklearn.datasets import load_digits \n",
    "from sklearn.svm import SVC\n",
    "import matplotlib.pyplot as plt\n",
    "import numpy as np\n",
    "\n",
    "#加载数据\n",
    "digits=load_digits()\n",
    "X=digits.data\n",
    "y=digits.target\n",
    "\n",
    "#train_size表示记录学习过程中的某一步,比如在10%,25%...的过程中记录一下\n",
    "train_size,train_loss,test_loss=learning_curve(\n",
    "    SVC(gamma=0.01),X,y,cv=10,scoring='neg_mean_squared_error',\n",
    "    train_sizes=[0.1,0.25,0.5,0.75,1]\n",
    ")\n",
    "train_loss_mean=-np.mean(train_loss,axis=1)\n",
    "test_loss_mean=-np.mean(test_loss,axis=1)\n",
    "\n",
    "plt.figure()\n",
    "#将每一步进行打印出来\n",
    "plt.plot(train_size,train_loss_mean,'o-',color='r',label='Training')\n",
    "plt.plot(train_size,test_loss_mean,'o-',color='g',label='Cross-validation')\n",
    "plt.legend(loc='best')\n",
    "plt.show()\n"
   ]
  },
  {
   "cell_type": "code",
   "execution_count": 12,
   "metadata": {},
   "outputs": [
    {
     "data": {
      "image/png": "[encoded data removed]",
      "text/plain": [
       "<Figure size 432x288 with 1 Axes>"
      ]
     },
     "metadata": {},
     "output_type": "display_data"
    }
   ],
   "source": [
    "# 通过改变不同的gamma值可以看到Loss函数的变化情况\n",
    "from sklearn.model_selection import validation_curve  # 验证曲线\n",
    "from sklearn.datasets import load_digits \n",
    "from sklearn.svm import SVC\n",
    "import matplotlib.pyplot as plt\n",
    "import numpy as np\n",
    "\n",
    "#加载数据\n",
    "digits=load_digits()\n",
    "X=digits.data\n",
    "y=digits.target\n",
    "\n",
    "#改变param来观察loss函数的情况\n",
    "param_range=np.logspace(-6,-2.3,5)\n",
    "train_loss,test_loss=validation_curve(\n",
    "    SVC(),X,y,param_name='gamma',param_range=param_range,cv=10,\n",
    "    scoring='neg_mean_squared_error'\n",
    ")\n",
    "train_loss_mean=-np.mean(train_loss,axis=1)\n",
    "test_loss_mean=-np.mean(test_loss,axis=1)\n",
    "\n",
    "plt.figure()\n",
    "plt.plot(param_range,train_loss_mean,'o-',color='r',label='Training')\n",
    "plt.plot(param_range,test_loss_mean,'o-',color='g',label='Cross-validation')\n",
    "plt.xlabel('gamma')\n",
    "plt.ylabel('loss')\n",
    "plt.legend(loc='best')\n",
    "plt.show()"
   ]
  },
  {
   "cell_type": "markdown",
   "metadata": {},
   "source": [
    "### 9.保存模型"
   ]
  },
  {
   "cell_type": "markdown",
   "metadata": {
    "collapsed": true
   },
   "source": [
    "我们花费很长的时间训练数据，调整参数，得到最优模型。但如果改变平台，我们还需要重新训练数据和修正参数来得到模型，将会非常的浪费时间。此时我们可以先将model保存起来，然后就可以很方便的将模型迁移。"
   ]
  },
  {
   "cell_type": "code",
   "execution_count": 15,
   "metadata": {},
   "outputs": [
    {
     "name": "stdout",
     "output_type": "stream",
     "text": [
      "<bound method BaseEstimator.get_params of SVC(C=1.0, cache_size=200, class_weight=None, coef0=0.0,\n",
      "  decision_function_shape='ovr', degree=3, gamma='auto', kernel='rbf',\n",
      "  max_iter=-1, probability=False, random_state=None, shrinking=True,\n",
      "  tol=0.001, verbose=False)>\n"
     ]
    }
   ],
   "source": [
    "from sklearn import svm\n",
    "from sklearn import datasets\n",
    "\n",
    "#加载数据\n",
    "iris=datasets.load_iris()\n",
    "X,y=iris.data,iris.target\n",
    "clf=svm.SVC()\n",
    "clf.fit(X,y)\n",
    "\n",
    "print(clf.get_params)\n",
    "\n",
    "\n"
   ]
  },
  {
   "cell_type": "code",
   "execution_count": 17,
   "metadata": {},
   "outputs": [
    {
     "data": {
      "text/plain": [
       "['sklearn_save/clf.pkl']"
      ]
     },
     "execution_count": 17,
     "metadata": {},
     "output_type": "execute_result"
    }
   ],
   "source": [
    "#导入sklearn中自带的保存模块\n",
    "from sklearn.externals import joblib\n",
    "\n",
    "#保存model\n",
    "joblib.dump(clf,'sklearn_save/clf.pkl')"
   ]
  },
  {
   "cell_type": "code",
   "execution_count": 18,
   "metadata": {},
   "outputs": [
    {
     "name": "stdout",
     "output_type": "stream",
     "text": [
      "[0]\n"
     ]
    }
   ],
   "source": [
    "\n",
    "#重新加载model，只有保存一次后才能加载model\n",
    "clf3=joblib.load('sklearn_save/clf.pkl')\n",
    "print(clf3.predict(X[0:1]))\n",
    "#保存model能够更快的获得以前的结果"
   ]
  },
  {
   "cell_type": "markdown",
   "metadata": {},
   "source": [
    "sklearn中的知识很多，在实际中使用很丰富，以上我们只讲解了一些知识点，大家先熟悉了sklearn可以做啥，应该怎么用，如果大家向更加详细的了解sklearn，不防看看官方文档中解释。  \n",
    "[sklearn用户指导](https://scikit-learn.org/stable/user_guide.html)\n"
   ]
  },
  {
   "cell_type": "markdown",
   "metadata": {},
   "source": [
    "### 小结"
   ]
  },
  {
   "cell_type": "markdown",
   "metadata": {},
   "source": [
    "对于机器学习任务，一般我们的主要步骤是：  \n",
    ">1.加载数据集（自己的数据，或者网上的数据，或者sklearn自带的数据）  \n",
    "2.数据预处理（降维，数据归一化，特征提取，特征转换）  \n",
    "3.选择模型并训练 （直接查看api找到你需要的方法，直接调用即可，其中你可能需要调调参等）  \n",
    "4.模型评分（使用模型自带的score方法，或者使用sklearn指标函数，或者使用自己的评价方法）  \n",
    "5.模型的保存\n",
    "\n",
    "\n",
    "\n"
   ]
  },
  {
   "cell_type": "markdown",
   "metadata": {
    "collapsed": true
   },
   "source": [
    "# sklearn之分类算法篇"
   ]
  },
  {
   "cell_type": "markdown",
   "metadata": {},
   "source": [
    "Scikit-learn是一个用于Python编程语言的免费软件机器学习库。它具有各种分类，回归和聚类算法，包括支持向量机，随机森林，梯度增强，K-means和DBSCAN，旨在与Python数值和科学库Numpy和Scipy互操作。以下我们一起学习sklearn中机器学习分类算法——逻辑回归、朴素贝叶斯、KNN、SVM、决策树。"
   ]
  },
  {
   "cell_type": "markdown",
   "metadata": {},
   "source": [
    "### 1. 逻辑回归（Logistics regression）"
   ]
  },
  {
   "cell_type": "code",
   "execution_count": null,
   "metadata": {
    "collapsed": true
   },
   "outputs": [],
   "source": []
  },
  {
   "cell_type": "code",
   "execution_count": null,
   "metadata": {
    "collapsed": true
   },
   "outputs": [],
   "source": []
  },
  {
   "cell_type": "markdown",
   "metadata": {},
   "source": [
    "### 2. 朴素贝叶斯"
   ]
  },
  {
   "cell_type": "code",
   "execution_count": null,
   "metadata": {
    "collapsed": true
   },
   "outputs": [],
   "source": []
  },
  {
   "cell_type": "markdown",
   "metadata": {},
   "source": [
    "#### 2.1 高斯朴素贝叶斯（GaussianNB）"
   ]
  },
  {
   "cell_type": "code",
   "execution_count": null,
   "metadata": {
    "collapsed": true
   },
   "outputs": [],
   "source": []
  },
  {
   "cell_type": "markdown",
   "metadata": {},
   "source": [
    "#### 2.2 多项式朴素贝叶斯（MultinomialNB/MNB）"
   ]
  },
  {
   "cell_type": "code",
   "execution_count": null,
   "metadata": {
    "collapsed": true
   },
   "outputs": [],
   "source": []
  },
  {
   "cell_type": "markdown",
   "metadata": {},
   "source": [
    "#### 2.3 互补朴素贝叶斯（ComplementNB/CMB）"
   ]
  },
  {
   "cell_type": "code",
   "execution_count": null,
   "metadata": {
    "collapsed": true
   },
   "outputs": [],
   "source": []
  },
  {
   "cell_type": "markdown",
   "metadata": {},
   "source": [
    "#### 2.4 伯努利朴素贝叶斯（BernoulliNB）"
   ]
  },
  {
   "cell_type": "code",
   "execution_count": null,
   "metadata": {
    "collapsed": true
   },
   "outputs": [],
   "source": []
  },
  {
   "cell_type": "markdown",
   "metadata": {},
   "source": [
    "### 3. K-Nearest Neighbors(KNN)"
   ]
  },
  {
   "cell_type": "code",
   "execution_count": null,
   "metadata": {
    "collapsed": true
   },
   "outputs": [],
   "source": []
  },
  {
   "cell_type": "markdown",
   "metadata": {},
   "source": [
    "### 4. 支持向量机（SVM）"
   ]
  },
  {
   "cell_type": "code",
   "execution_count": null,
   "metadata": {
    "collapsed": true
   },
   "outputs": [],
   "source": []
  },
  {
   "cell_type": "markdown",
   "metadata": {},
   "source": [
    "### 5. 决策树"
   ]
  },
  {
   "cell_type": "code",
   "execution_count": null,
   "metadata": {
    "collapsed": true
   },
   "outputs": [],
   "source": []
  },
  {
   "cell_type": "markdown",
   "metadata": {},
   "source": []
  },
  {
   "cell_type": "code",
   "execution_count": null,
   "metadata": {
    "collapsed": true
   },
   "outputs": [],
   "source": []
  },
  {
   "cell_type": "code",
   "execution_count": null,
   "metadata": {
    "collapsed": true
   },
   "outputs": [],
   "source": []
  },
  {
   "cell_type": "code",
   "execution_count": null,
   "metadata": {
    "collapsed": true
   },
   "outputs": [],
   "source": []
  },
  {
   "cell_type": "code",
   "execution_count": null,
   "metadata": {
    "collapsed": true
   },
   "outputs": [],
   "source": []
  },
  {
   "cell_type": "code",
   "execution_count": null,
   "metadata": {
    "collapsed": true
   },
   "outputs": [],
   "source": []
  },
  {
   "cell_type": "code",
   "execution_count": null,
   "metadata": {
    "collapsed": true
   },
   "outputs": [],
   "source": []
  },
  {
   "cell_type": "code",
   "execution_count": null,
   "metadata": {
    "collapsed": true
   },
   "outputs": [],
   "source": []
  },
  {
   "cell_type": "code",
   "execution_count": null,
   "metadata": {
    "collapsed": true
   },
   "outputs": [],
   "source": []
  },
  {
   "cell_type": "code",
   "execution_count": null,
   "metadata": {
    "collapsed": true
   },
   "outputs": [],
   "source": []
  },
  {
   "cell_type": "code",
   "execution_count": null,
   "metadata": {
    "collapsed": true
   },
   "outputs": [],
   "source": []
  },
  {
   "cell_type": "code",
   "execution_count": null,
   "metadata": {
    "collapsed": true
   },
   "outputs": [],
   "source": []
  },
  {
   "cell_type": "code",
   "execution_count": null,
   "metadata": {
    "collapsed": true
   },
   "outputs": [],
   "source": []
  },
  {
   "cell_type": "code",
   "execution_count": null,
   "metadata": {
    "collapsed": true
   },
   "outputs": [],
   "source": []
  },
  {
   "cell_type": "code",
   "execution_count": null,
   "metadata": {
    "collapsed": true
   },
   "outputs": [],
   "source": []
  },
  {
   "cell_type": "code",
   "execution_count": null,
   "metadata": {
    "collapsed": true
   },
   "outputs": [],
   "source": []
  },
  {
   "cell_type": "code",
   "execution_count": null,
   "metadata": {
    "collapsed": true
   },
   "outputs": [],
   "source": []
  },
  {
   "cell_type": "code",
   "execution_count": null,
   "metadata": {
    "collapsed": true
   },
   "outputs": [],
   "source": []
  },
  {
   "cell_type": "code",
   "execution_count": null,
   "metadata": {
    "collapsed": true
   },
   "outputs": [],
   "source": []
  },
  {
   "cell_type": "code",
   "execution_count": null,
   "metadata": {
    "collapsed": true
   },
   "outputs": [],
   "source": []
  },
  {
   "cell_type": "code",
   "execution_count": null,
   "metadata": {
    "collapsed": true
   },
   "outputs": [],
   "source": []
  }
 ],
 "metadata": {
  "kernelspec": {
   "display_name": "Python 3",
   "language": "python",
   "name": "python3"
  },
  "language_info": {
   "codemirror_mode": {
    "name": "ipython",
    "version": 3
   },
   "file_extension": ".py",
   "mimetype": "text/x-python",
   "name": "python",
   "nbconvert_exporter": "python",
   "pygments_lexer": "ipython3",
   "version": "3.6.6"
  }
 },
 "nbformat": 4,
 "nbformat_minor": 2
}
